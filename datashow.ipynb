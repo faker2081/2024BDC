{
 "cells": [
  {
   "cell_type": "code",
   "execution_count": 1,
   "id": "11c3edda-9824-4117-b22d-ab74276a8165",
   "metadata": {},
   "outputs": [],
   "source": [
    "import numpy as np\n",
    "import pandas as pd\n",
    "import seaborn as sb\n",
    "import matplotlib as plt\n",
    "import os"
   ]
  },
  {
   "cell_type": "code",
   "execution_count": 2,
   "id": "a8bc8e62-0a98-43da-9fd9-9b9925752825",
   "metadata": {},
   "outputs": [],
   "source": [
    "base_path = './global'\n",
    "global_data_path = os.path.join(base_path, 'global_data.npy')\n",
    "temp_path = os.path.join(base_path, 'temp.npy')\n",
    "wind_path = os.path.join(base_path, 'wind.npy')"
   ]
  },
  {
   "cell_type": "code",
   "execution_count": 8,
   "id": "74725572-a37b-43a4-8a92-312e93331230",
   "metadata": {},
   "outputs": [],
   "source": [
    "# 读取数据\n",
    "global_data = np.load(global_data_path)\n",
    "temp = np.load(temp_path)\n",
    "wind = np.load(wind_path)"
   ]
  },
  {
   "cell_type": "code",
   "execution_count": 9,
   "id": "8c68b735-abf2-4a88-8b0e-b231bf926767",
   "metadata": {},
   "outputs": [
    {
     "name": "stdout",
     "output_type": "stream",
     "text": [
      "(5848, 4, 9, 3850)\n"
     ]
    },
    {
     "data": {
      "text/plain": [
       "array([6.9822998 , 8.4901123 , 8.36901855, 7.78405762, 7.92175293,\n",
       "       6.51159668, 5.21960449, 5.06335449, 4.57312012])"
      ]
     },
     "execution_count": 9,
     "metadata": {},
     "output_type": "execute_result"
    }
   ],
   "source": [
    "print(global_data.shape)\n",
    "global_data[0, 0, :, 0] # (时间点， ERA5， 9 个格点， 观测站点)"
   ]
  },
  {
   "cell_type": "code",
   "execution_count": 6,
   "id": "c6a12347-b0ff-4c0c-a611-941fe709099c",
   "metadata": {},
   "outputs": [
    {
     "data": {
      "text/plain": [
       "(17544, 3850, 1)"
      ]
     },
     "execution_count": 6,
     "metadata": {},
     "output_type": "execute_result"
    }
   ],
   "source": [
    "temp.shape # (时间点，观测站点，温度)"
   ]
  },
  {
   "cell_type": "code",
   "execution_count": 7,
   "id": "78102e4a-a08a-4203-a05c-a1d2ad508b1f",
   "metadata": {},
   "outputs": [
    {
     "data": {
      "text/plain": [
       "(17544, 3850, 1)"
      ]
     },
     "execution_count": 7,
     "metadata": {},
     "output_type": "execute_result"
    }
   ],
   "source": [
    "wind.shape # (时间点，观测站点，风速)"
   ]
  },
  {
   "cell_type": "markdown",
   "id": "7364a08e-a83a-47f5-8b08-30c502179f63",
   "metadata": {},
   "source": [
    "## 整理数据集为dataFram\n",
    "虽然ERA5提供了远超过4个变量的丰富数据集，但如果您是指特定情况下的四个关键或基础变量，可能是以下这些，它们常被用于多种气象和气候分析：\r\n",
    "\r\n",
    "2米气温 (2m temperature): 这代表了地面以上约2米处的空气温度，是衡量地表附近大气热状态的基本指标，广泛应用于评估人类热舒适度、农作物生长条件及一般天气状况。\r\n",
    "\r\n",
    "10米风速和风向 (10m wind speed and direction): 表示离地面10米高度处的风况，对于理解大气动力学过程、风能评估、污染物扩散模拟等至关重要。\r\n",
    "\r\n",
    "总降水量 (Total precipitation): 给出单位时间内（通常是小时或天）的地表降水总量，对于洪水预警、水资源管理和农业规划等极为重要。\r\n",
    "\r\n",
    "相对湿度 (Relative humidity): 描述空气中水蒸气含量接近饱和的程度，对天气预报、气候模型和理解各种气象现象（如雾、霜冻）非常重要。霜冻）非常重要。"
   ]
  },
  {
   "cell_type": "markdown",
   "id": "66bbd040-cc1f-45b5-8eda-83635711cebd",
   "metadata": {},
   "source": [
    "## 思路\n",
    "1. 可以用 global_data 中的“时间点”、“9 个格点”、“观测站点”，做embdding，也可以考虑使用旋转位置编码，把这几个特征揉在一起。因为本质上，时间也是一种位置，把这些关于位置的变量揉在一起，作为一个特征，便于处理。\n",
    "2. 在模型上来看，该任务属于序列任务（生成式任务），可以考虑使用GPT的序列生成架构，而不是bert的mask架构。"
   ]
  }
 ],
 "metadata": {
  "kernelspec": {
   "display_name": "Python 3 (ipykernel)",
   "language": "python",
   "name": "python3"
  },
  "language_info": {
   "codemirror_mode": {
    "name": "ipython",
    "version": 3
   },
   "file_extension": ".py",
   "mimetype": "text/x-python",
   "name": "python",
   "nbconvert_exporter": "python",
   "pygments_lexer": "ipython3",
   "version": "3.11.7"
  }
 },
 "nbformat": 4,
 "nbformat_minor": 5
}
